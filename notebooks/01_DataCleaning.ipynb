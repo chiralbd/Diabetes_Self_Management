{
 "cells": [
  {
   "cell_type": "markdown",
   "metadata": {},
   "source": [
    "# Diabetes Survey Analysis \n",
    "1. Data Quality Check(errors: missing values) \n",
    "2. Inclusion and exclusion\n",
    "3. Analysis of demographic variables(age[mean,std], percentage, frequencies) \n",
    "4. Estimation of Probable Type(percentage, frequencies) \n",
    "5. Association between demographic variables: Estimation of Probable Type(Gender, Marital Status, Education Level, chi-square test)\n",
    "6. Self Management and Knowledge(percentage, frequencies)       \n",
    "7. Association between demographic variables: Self Management and Knowledge(Gender, Marital Status, Education Level, chi-square test)\n"
   ]
  },
  {
   "cell_type": "markdown",
   "metadata": {},
   "source": [
    "## Task #1: Data Quality Check "
   ]
  },
  {
   "cell_type": "code",
   "execution_count": 1,
   "metadata": {},
   "outputs": [],
   "source": [
    "# import librarires \n",
    "import pandas as pd \n",
    "import researchpy as rp "
   ]
  },
  {
   "cell_type": "code",
   "execution_count": 2,
   "metadata": {},
   "outputs": [],
   "source": [
    "data = pd.read_excel('../data/diabetes.xlsx')"
   ]
  },
  {
   "cell_type": "code",
   "execution_count": 3,
   "metadata": {},
   "outputs": [
    {
     "data": {
      "text/html": [
       "<div>\n",
       "<style scoped>\n",
       "    .dataframe tbody tr th:only-of-type {\n",
       "        vertical-align: middle;\n",
       "    }\n",
       "\n",
       "    .dataframe tbody tr th {\n",
       "        vertical-align: top;\n",
       "    }\n",
       "\n",
       "    .dataframe thead th {\n",
       "        text-align: right;\n",
       "    }\n",
       "</style>\n",
       "<table border=\"1\" class=\"dataframe\">\n",
       "  <thead>\n",
       "    <tr style=\"text-align: right;\">\n",
       "      <th></th>\n",
       "      <th>Timestamp</th>\n",
       "      <th>Are you willing to participant in the survey?</th>\n",
       "      <th>Age of Participant</th>\n",
       "      <th>Weight(kg)</th>\n",
       "      <th>Usual Blood Pressure(mmHg)</th>\n",
       "      <th>Height(in)</th>\n",
       "      <th>Gender</th>\n",
       "      <th>Marital status</th>\n",
       "      <th>Education Level</th>\n",
       "      <th>Occupation</th>\n",
       "      <th>...</th>\n",
       "      <th>Do you smoke ?</th>\n",
       "      <th>Overall health in the past 4 weeks ?</th>\n",
       "      <th>Does diabetes affect day to day activities ?</th>\n",
       "      <th>Family history of diabetes</th>\n",
       "      <th>Whether stayed in hospital overnight</th>\n",
       "      <th>Reason for most recent  stay in hospital</th>\n",
       "      <th>Where do  you  go for diabetes check-up</th>\n",
       "      <th>Number of diabetes check-ups in the last  12 month</th>\n",
       "      <th>Representative name ( bithi,nodee,muhibullah,...etc)</th>\n",
       "      <th>Representative(Short Name/Initials):</th>\n",
       "    </tr>\n",
       "  </thead>\n",
       "  <tbody>\n",
       "    <tr>\n",
       "      <th>0</th>\n",
       "      <td>2021-04-28 22:40:52.318</td>\n",
       "      <td>Yes</td>\n",
       "      <td>24.0</td>\n",
       "      <td>NaN</td>\n",
       "      <td>NaN</td>\n",
       "      <td>NaN</td>\n",
       "      <td>Male</td>\n",
       "      <td>Unmarried</td>\n",
       "      <td>Undergraduate</td>\n",
       "      <td>Health Care Service Provider</td>\n",
       "      <td>...</td>\n",
       "      <td>No</td>\n",
       "      <td>Very good</td>\n",
       "      <td>No</td>\n",
       "      <td>No</td>\n",
       "      <td>NaN</td>\n",
       "      <td>NaN</td>\n",
       "      <td>NaN</td>\n",
       "      <td>NaN</td>\n",
       "      <td>NaN</td>\n",
       "      <td>NaN</td>\n",
       "    </tr>\n",
       "    <tr>\n",
       "      <th>1</th>\n",
       "      <td>2021-04-30 19:58:59.820</td>\n",
       "      <td>Yes</td>\n",
       "      <td>42.0</td>\n",
       "      <td>NaN</td>\n",
       "      <td>NaN</td>\n",
       "      <td>NaN</td>\n",
       "      <td>Male</td>\n",
       "      <td>Married</td>\n",
       "      <td>SSC</td>\n",
       "      <td>Public Service</td>\n",
       "      <td>...</td>\n",
       "      <td>No</td>\n",
       "      <td>Excellent</td>\n",
       "      <td>Yes</td>\n",
       "      <td>Yes</td>\n",
       "      <td>NaN</td>\n",
       "      <td>NaN</td>\n",
       "      <td>NaN</td>\n",
       "      <td>NaN</td>\n",
       "      <td>NaN</td>\n",
       "      <td>NaN</td>\n",
       "    </tr>\n",
       "  </tbody>\n",
       "</table>\n",
       "<p>2 rows × 33 columns</p>\n",
       "</div>"
      ],
      "text/plain": [
       "                Timestamp Are you willing to participant in the survey?   \\\n",
       "0 2021-04-28 22:40:52.318                                            Yes   \n",
       "1 2021-04-30 19:58:59.820                                            Yes   \n",
       "\n",
       "   Age of Participant  Weight(kg) Usual Blood Pressure(mmHg) Height(in)  \\\n",
       "0                24.0         NaN                        NaN        NaN   \n",
       "1                42.0         NaN                        NaN        NaN   \n",
       "\n",
       "  Gender Marital status Education Level                    Occupation   ...  \\\n",
       "0   Male      Unmarried    Undergraduate  Health Care Service Provider  ...   \n",
       "1   Male        Married              SSC                Public Service  ...   \n",
       "\n",
       "  Do you smoke ?  Overall health in the past 4 weeks ?   \\\n",
       "0              No                             Very good   \n",
       "1              No                             Excellent   \n",
       "\n",
       "   Does diabetes affect day to day activities ?   Family history of diabetes   \\\n",
       "0                                             No                           No   \n",
       "1                                            Yes                          Yes   \n",
       "\n",
       "   Whether stayed in hospital overnight  \\\n",
       "0                                   NaN   \n",
       "1                                   NaN   \n",
       "\n",
       "  Reason for most recent  stay in hospital   \\\n",
       "0                                       NaN   \n",
       "1                                       NaN   \n",
       "\n",
       "   Where do  you  go for diabetes check-up  \\\n",
       "0                                      NaN   \n",
       "1                                      NaN   \n",
       "\n",
       "  Number of diabetes check-ups in the last  12 month   \\\n",
       "0                                                NaN    \n",
       "1                                                NaN    \n",
       "\n",
       "  Representative name ( bithi,nodee,muhibullah,...etc)   \\\n",
       "0                                                NaN      \n",
       "1                                                NaN      \n",
       "\n",
       "  Representative(Short Name/Initials):  \n",
       "0                                  NaN  \n",
       "1                                  NaN  \n",
       "\n",
       "[2 rows x 33 columns]"
      ]
     },
     "execution_count": 3,
     "metadata": {},
     "output_type": "execute_result"
    }
   ],
   "source": [
    "data.head(2) "
   ]
  },
  {
   "cell_type": "code",
   "execution_count": 4,
   "metadata": {},
   "outputs": [
    {
     "data": {
      "text/plain": [
       "(306, 33)"
      ]
     },
     "execution_count": 4,
     "metadata": {},
     "output_type": "execute_result"
    }
   ],
   "source": [
    "# shape: rows and columns \n",
    "data.shape"
   ]
  },
  {
   "cell_type": "code",
   "execution_count": 5,
   "metadata": {},
   "outputs": [
    {
     "name": "stdout",
     "output_type": "stream",
     "text": [
      "<class 'pandas.core.frame.DataFrame'>\n",
      "RangeIndex: 306 entries, 0 to 305\n",
      "Data columns (total 33 columns):\n",
      " #   Column                                                                                Non-Null Count  Dtype         \n",
      "---  ------                                                                                --------------  -----         \n",
      " 0   Timestamp                                                                             306 non-null    datetime64[ns]\n",
      " 1   Are you willing to participant in the survey?                                         304 non-null    object        \n",
      " 2   Age of Participant                                                                    305 non-null    float64       \n",
      " 3   Weight(kg)                                                                            303 non-null    float64       \n",
      " 4   Usual Blood Pressure(mmHg)                                                            303 non-null    object        \n",
      " 5   Height(in)                                                                            303 non-null    object        \n",
      " 6   Gender                                                                                305 non-null    object        \n",
      " 7   Marital status                                                                        305 non-null    object        \n",
      " 8   Education Level                                                                       305 non-null    object        \n",
      " 9   Occupation                                                                            305 non-null    object        \n",
      " 10  Division                                                                              305 non-null    object        \n",
      " 11  District                                                                              305 non-null    object        \n",
      " 12  At which age you diagnosed diabetes?                                                  305 non-null    object        \n",
      " 13  What type of diabetes do you have?                                                    305 non-null    object        \n",
      " 14  Did you inject insulin within the first 3 months of being diagnosed ?                 305 non-null    object        \n",
      " 15  Did you continue injecting for more than one year after you first injected insulin?   305 non-null    object        \n",
      " 16  How do you control your diabetes now ?                                                305 non-null    object        \n",
      " 17  Do you take any medication for any other condition ?                                  305 non-null    object        \n",
      " 18  What type of medication do you take ?                                                 305 non-null    object        \n",
      " 19  Do you know enough about when to take your medication ?                               305 non-null    object        \n",
      " 20  How often do you test your own blood glucose level ?                                  305 non-null    object        \n",
      " 21   Do you know enough about what you should eat to help you manage your diabetes ?      305 non-null    object        \n",
      " 22  Do you know about the role of Physical activity in managing your diabetes ?           305 non-null    object        \n",
      " 23  Do you smoke ?                                                                        305 non-null    object        \n",
      " 24  Overall health in the past 4 weeks ?                                                  305 non-null    object        \n",
      " 25   Does diabetes affect day to day activities ?                                         305 non-null    object        \n",
      " 26   Family history of diabetes                                                           305 non-null    object        \n",
      " 27   Whether stayed in hospital overnight                                                 303 non-null    object        \n",
      " 28  Reason for most recent  stay in hospital                                              303 non-null    object        \n",
      " 29   Where do  you  go for diabetes check-up                                              303 non-null    object        \n",
      " 30  Number of diabetes check-ups in the last  12 month                                    303 non-null    object        \n",
      " 31  Representative name ( bithi,nodee,muhibullah,...etc)                                  225 non-null    object        \n",
      " 32  Representative(Short Name/Initials):                                                  0 non-null      float64       \n",
      "dtypes: datetime64[ns](1), float64(3), object(29)\n",
      "memory usage: 79.0+ KB\n"
     ]
    }
   ],
   "source": [
    "# info: information about survey \n",
    "data.info() "
   ]
  },
  {
   "cell_type": "code",
   "execution_count": 6,
   "metadata": {},
   "outputs": [
    {
     "data": {
      "text/plain": [
       "Index(['Timestamp', 'Are you willing to participant in the survey? ',\n",
       "       'Age of Participant', 'Weight(kg)', 'Usual Blood Pressure(mmHg)',\n",
       "       'Height(in)', 'Gender', 'Marital status', 'Education Level ',\n",
       "       'Occupation ', 'Division', 'District',\n",
       "       'At which age you diagnosed diabetes?',\n",
       "       'What type of diabetes do you have?',\n",
       "       'Did you inject insulin within the first 3 months of being diagnosed ? ',\n",
       "       'Did you continue injecting for more than one year after you first injected insulin? ',\n",
       "       'How do you control your diabetes now ? ',\n",
       "       'Do you take any medication for any other condition ? ',\n",
       "       'What type of medication do you take ?',\n",
       "       'Do you know enough about when to take your medication ? ',\n",
       "       'How often do you test your own blood glucose level ? ',\n",
       "       ' Do you know enough about what you should eat to help you manage your diabetes ? ',\n",
       "       'Do you know about the role of Physical activity in managing your diabetes ? ',\n",
       "       'Do you smoke ? ', 'Overall health in the past 4 weeks ? ',\n",
       "       ' Does diabetes affect day to day activities ? ',\n",
       "       ' Family history of diabetes ', ' Whether stayed in hospital overnight',\n",
       "       'Reason for most recent  stay in hospital ',\n",
       "       ' Where do  you  go for diabetes check-up',\n",
       "       'Number of diabetes check-ups in the last  12 month ',\n",
       "       'Representative name ( bithi,nodee,muhibullah,...etc) ',\n",
       "       'Representative(Short Name/Initials):'],\n",
       "      dtype='object')"
      ]
     },
     "execution_count": 6,
     "metadata": {},
     "output_type": "execute_result"
    }
   ],
   "source": [
    "# columns \n",
    "data.columns"
   ]
  },
  {
   "cell_type": "code",
   "execution_count": 7,
   "metadata": {},
   "outputs": [],
   "source": [
    "# drop unused columns \n",
    "data.drop(columns=['Timestamp', 'Are you willing to participant in the survey? ', \n",
    "                  'Representative name ( bithi,nodee,muhibullah,...etc) ', \n",
    "                  'Representative(Short Name/Initials):', \n",
    "                   'Weight(kg)', 'Usual Blood Pressure(mmHg)',\n",
    "                    'Height(in)'], inplace=True)"
   ]
  },
  {
   "cell_type": "code",
   "execution_count": 8,
   "metadata": {},
   "outputs": [
    {
     "data": {
      "text/plain": [
       "Age of Participant                                                                      1\n",
       "Gender                                                                                  1\n",
       "Marital status                                                                          1\n",
       "Education Level                                                                         1\n",
       "Occupation                                                                              1\n",
       "Division                                                                                1\n",
       "District                                                                                1\n",
       "At which age you diagnosed diabetes?                                                    1\n",
       "What type of diabetes do you have?                                                      1\n",
       "Did you inject insulin within the first 3 months of being diagnosed ?                   1\n",
       "Did you continue injecting for more than one year after you first injected insulin?     1\n",
       "How do you control your diabetes now ?                                                  1\n",
       "Do you take any medication for any other condition ?                                    1\n",
       "What type of medication do you take ?                                                   1\n",
       "Do you know enough about when to take your medication ?                                 1\n",
       "How often do you test your own blood glucose level ?                                    1\n",
       " Do you know enough about what you should eat to help you manage your diabetes ?        1\n",
       "Do you know about the role of Physical activity in managing your diabetes ?             1\n",
       "Do you smoke ?                                                                          1\n",
       "Overall health in the past 4 weeks ?                                                    1\n",
       " Does diabetes affect day to day activities ?                                           1\n",
       " Family history of diabetes                                                             1\n",
       " Whether stayed in hospital overnight                                                   3\n",
       "Reason for most recent  stay in hospital                                                3\n",
       " Where do  you  go for diabetes check-up                                                3\n",
       "Number of diabetes check-ups in the last  12 month                                      3\n",
       "dtype: int64"
      ]
     },
     "execution_count": 8,
     "metadata": {},
     "output_type": "execute_result"
    }
   ],
   "source": [
    "# check missing data: data errors\n",
    "data.isnull().sum() "
   ]
  },
  {
   "cell_type": "code",
   "execution_count": 9,
   "metadata": {},
   "outputs": [],
   "source": [
    "# drop missing data \n",
    "data.dropna(inplace=True) "
   ]
  },
  {
   "cell_type": "code",
   "execution_count": 10,
   "metadata": {},
   "outputs": [
    {
     "data": {
      "text/plain": [
       "(303, 26)"
      ]
     },
     "execution_count": 10,
     "metadata": {},
     "output_type": "execute_result"
    }
   ],
   "source": [
    "# check shape of data again \n",
    "data.shape"
   ]
  },
  {
   "cell_type": "code",
   "execution_count": 11,
   "metadata": {},
   "outputs": [
    {
     "data": {
      "text/plain": [
       "Age of Participant                                                                      0\n",
       "Gender                                                                                  0\n",
       "Marital status                                                                          0\n",
       "Education Level                                                                         0\n",
       "Occupation                                                                              0\n",
       "Division                                                                                0\n",
       "District                                                                                0\n",
       "At which age you diagnosed diabetes?                                                    0\n",
       "What type of diabetes do you have?                                                      0\n",
       "Did you inject insulin within the first 3 months of being diagnosed ?                   0\n",
       "Did you continue injecting for more than one year after you first injected insulin?     0\n",
       "How do you control your diabetes now ?                                                  0\n",
       "Do you take any medication for any other condition ?                                    0\n",
       "What type of medication do you take ?                                                   0\n",
       "Do you know enough about when to take your medication ?                                 0\n",
       "How often do you test your own blood glucose level ?                                    0\n",
       " Do you know enough about what you should eat to help you manage your diabetes ?        0\n",
       "Do you know about the role of Physical activity in managing your diabetes ?             0\n",
       "Do you smoke ?                                                                          0\n",
       "Overall health in the past 4 weeks ?                                                    0\n",
       " Does diabetes affect day to day activities ?                                           0\n",
       " Family history of diabetes                                                             0\n",
       " Whether stayed in hospital overnight                                                   0\n",
       "Reason for most recent  stay in hospital                                                0\n",
       " Where do  you  go for diabetes check-up                                                0\n",
       "Number of diabetes check-ups in the last  12 month                                      0\n",
       "dtype: int64"
      ]
     },
     "execution_count": 11,
     "metadata": {},
     "output_type": "execute_result"
    }
   ],
   "source": [
    "# check missing values again \n",
    "data.isnull().sum() "
   ]
  },
  {
   "cell_type": "code",
   "execution_count": 12,
   "metadata": {},
   "outputs": [
    {
     "data": {
      "text/plain": [
       "Index(['Age_of_Participant', 'Gender', 'Marital_status', 'Education_Level',\n",
       "       'Occupation', 'Division', 'District',\n",
       "       'At_which_age_you_diagnosed_diabetes?',\n",
       "       'What_type_of_diabetes_do_you_have?',\n",
       "       'Did_you_inject_insulin_within_the_first_3_months_of_being_diagnosed_?',\n",
       "       'Did_you_continue_injecting_for_more_than_one_year_after_you_first_injected_insulin?',\n",
       "       'How_do_you_control_your_diabetes_now_?',\n",
       "       'Do_you_take_any_medication_for_any_other_condition_?',\n",
       "       'What_type_of_medication_do_you_take_?',\n",
       "       'Do_you_know_enough_about_when_to_take_your_medication_?',\n",
       "       'How_often_do_you_test_your_own_blood_glucose_level_?',\n",
       "       'Do_you_know_enough_about_what_you_should_eat_to_help_you_manage_your_diabetes_?',\n",
       "       'Do_you_know_about_the_role_of_Physical_activity_in_managing_your_diabetes_?',\n",
       "       'Do_you_smoke_?', 'Overall_health_in_the_past_4_weeks_?',\n",
       "       'Does_diabetes_affect_day_to_day_activities_?',\n",
       "       'Family_history_of_diabetes', 'Whether_stayed_in_hospital_overnight',\n",
       "       'Reason_for_most_recent__stay_in_hospital',\n",
       "       'Where_do__you__go_for_diabetes_check-up',\n",
       "       'Number_of_diabetes_check-ups_in_the_last__12_month'],\n",
       "      dtype='object')"
      ]
     },
     "execution_count": 12,
     "metadata": {},
     "output_type": "execute_result"
    }
   ],
   "source": [
    "data.columns = data.columns.str.strip().str.replace(' ', '_') \n",
    "data.columns"
   ]
  },
  {
   "cell_type": "code",
   "execution_count": 13,
   "metadata": {},
   "outputs": [],
   "source": [
    "data.replace(to_replace=['No ( suggested type 2)', 'Yes ( suggested type 1)'], \n",
    "             value=['Probable Type 2', 'Probable Type 1'], inplace=True)"
   ]
  },
  {
   "cell_type": "code",
   "execution_count": 14,
   "metadata": {},
   "outputs": [
    {
     "data": {
      "text/plain": [
       "Probable Type 2    235\n",
       "Probable Type 1     68\n",
       "Name: Did_you_inject_insulin_within_the_first_3_months_of_being_diagnosed_?, dtype: int64"
      ]
     },
     "execution_count": 14,
     "metadata": {},
     "output_type": "execute_result"
    }
   ],
   "source": [
    "data['Did_you_inject_insulin_within_the_first_3_months_of_being_diagnosed_?'].value_counts()"
   ]
  },
  {
   "cell_type": "code",
   "execution_count": 15,
   "metadata": {},
   "outputs": [
    {
     "data": {
      "text/plain": [
       "Probable Type 2    219\n",
       "Probable Type 1     84\n",
       "Name: Did_you_continue_injecting_for_more_than_one_year_after_you_first_injected_insulin?, dtype: int64"
      ]
     },
     "execution_count": 15,
     "metadata": {},
     "output_type": "execute_result"
    }
   ],
   "source": [
    "data['Did_you_continue_injecting_for_more_than_one_year_after_you_first_injected_insulin?'].value_counts() "
   ]
  },
  {
   "cell_type": "code",
   "execution_count": 16,
   "metadata": {},
   "outputs": [],
   "source": [
    "# export clean data \n",
    "data.to_csv(\"../data/diabetes_cleaned_data_v2.csv\", index=False)"
   ]
  },
  {
   "cell_type": "code",
   "execution_count": 17,
   "metadata": {},
   "outputs": [
    {
     "name": "stdout",
     "output_type": "stream",
     "text": [
      "01_DataCleaning.ipynb  02_DiabetesInitialAnalysis.ipynb\n"
     ]
    }
   ],
   "source": [
    "! ls "
   ]
  },
  {
   "cell_type": "code",
   "execution_count": 18,
   "metadata": {},
   "outputs": [],
   "source": [
    "import pandas as pd \n",
    "import seaborn as sns \n",
    "import researchpy as rp "
   ]
  },
  {
   "cell_type": "code",
   "execution_count": 19,
   "metadata": {},
   "outputs": [
    {
     "ename": "FileNotFoundError",
     "evalue": "[Errno 2] No such file or directory: 'diabetes_cleaned_data.csv'",
     "output_type": "error",
     "traceback": [
      "\u001b[0;31m---------------------------------------------------------------------------\u001b[0m",
      "\u001b[0;31mFileNotFoundError\u001b[0m                         Traceback (most recent call last)",
      "\u001b[0;32m/tmp/ipykernel_18464/1246958675.py\u001b[0m in \u001b[0;36m<module>\u001b[0;34m\u001b[0m\n\u001b[1;32m      1\u001b[0m \u001b[0;31m# reading clean data\u001b[0m\u001b[0;34m\u001b[0m\u001b[0;34m\u001b[0m\u001b[0;34m\u001b[0m\u001b[0m\n\u001b[0;32m----> 2\u001b[0;31m \u001b[0mdf\u001b[0m \u001b[0;34m=\u001b[0m \u001b[0mpd\u001b[0m\u001b[0;34m.\u001b[0m\u001b[0mread_csv\u001b[0m\u001b[0;34m(\u001b[0m\u001b[0;34m\"diabetes_cleaned_data.csv\"\u001b[0m\u001b[0;34m)\u001b[0m\u001b[0;34m\u001b[0m\u001b[0;34m\u001b[0m\u001b[0m\n\u001b[0m\u001b[1;32m      3\u001b[0m \u001b[0mdf\u001b[0m\u001b[0;34m.\u001b[0m\u001b[0mhead\u001b[0m\u001b[0;34m(\u001b[0m\u001b[0;36m10\u001b[0m\u001b[0;34m)\u001b[0m\u001b[0;34m\u001b[0m\u001b[0;34m\u001b[0m\u001b[0m\n",
      "\u001b[0;32m~/.local/lib/python3.8/site-packages/pandas/util/_decorators.py\u001b[0m in \u001b[0;36mwrapper\u001b[0;34m(*args, **kwargs)\u001b[0m\n\u001b[1;32m    309\u001b[0m                     \u001b[0mstacklevel\u001b[0m\u001b[0;34m=\u001b[0m\u001b[0mstacklevel\u001b[0m\u001b[0;34m,\u001b[0m\u001b[0;34m\u001b[0m\u001b[0;34m\u001b[0m\u001b[0m\n\u001b[1;32m    310\u001b[0m                 )\n\u001b[0;32m--> 311\u001b[0;31m             \u001b[0;32mreturn\u001b[0m \u001b[0mfunc\u001b[0m\u001b[0;34m(\u001b[0m\u001b[0;34m*\u001b[0m\u001b[0margs\u001b[0m\u001b[0;34m,\u001b[0m \u001b[0;34m**\u001b[0m\u001b[0mkwargs\u001b[0m\u001b[0;34m)\u001b[0m\u001b[0;34m\u001b[0m\u001b[0;34m\u001b[0m\u001b[0m\n\u001b[0m\u001b[1;32m    312\u001b[0m \u001b[0;34m\u001b[0m\u001b[0m\n\u001b[1;32m    313\u001b[0m         \u001b[0;32mreturn\u001b[0m \u001b[0mwrapper\u001b[0m\u001b[0;34m\u001b[0m\u001b[0;34m\u001b[0m\u001b[0m\n",
      "\u001b[0;32m~/.local/lib/python3.8/site-packages/pandas/io/parsers/readers.py\u001b[0m in \u001b[0;36mread_csv\u001b[0;34m(filepath_or_buffer, sep, delimiter, header, names, index_col, usecols, squeeze, prefix, mangle_dupe_cols, dtype, engine, converters, true_values, false_values, skipinitialspace, skiprows, skipfooter, nrows, na_values, keep_default_na, na_filter, verbose, skip_blank_lines, parse_dates, infer_datetime_format, keep_date_col, date_parser, dayfirst, cache_dates, iterator, chunksize, compression, thousands, decimal, lineterminator, quotechar, quoting, doublequote, escapechar, comment, encoding, encoding_errors, dialect, error_bad_lines, warn_bad_lines, on_bad_lines, delim_whitespace, low_memory, memory_map, float_precision, storage_options)\u001b[0m\n\u001b[1;32m    584\u001b[0m     \u001b[0mkwds\u001b[0m\u001b[0;34m.\u001b[0m\u001b[0mupdate\u001b[0m\u001b[0;34m(\u001b[0m\u001b[0mkwds_defaults\u001b[0m\u001b[0;34m)\u001b[0m\u001b[0;34m\u001b[0m\u001b[0;34m\u001b[0m\u001b[0m\n\u001b[1;32m    585\u001b[0m \u001b[0;34m\u001b[0m\u001b[0m\n\u001b[0;32m--> 586\u001b[0;31m     \u001b[0;32mreturn\u001b[0m \u001b[0m_read\u001b[0m\u001b[0;34m(\u001b[0m\u001b[0mfilepath_or_buffer\u001b[0m\u001b[0;34m,\u001b[0m \u001b[0mkwds\u001b[0m\u001b[0;34m)\u001b[0m\u001b[0;34m\u001b[0m\u001b[0;34m\u001b[0m\u001b[0m\n\u001b[0m\u001b[1;32m    587\u001b[0m \u001b[0;34m\u001b[0m\u001b[0m\n\u001b[1;32m    588\u001b[0m \u001b[0;34m\u001b[0m\u001b[0m\n",
      "\u001b[0;32m~/.local/lib/python3.8/site-packages/pandas/io/parsers/readers.py\u001b[0m in \u001b[0;36m_read\u001b[0;34m(filepath_or_buffer, kwds)\u001b[0m\n\u001b[1;32m    480\u001b[0m \u001b[0;34m\u001b[0m\u001b[0m\n\u001b[1;32m    481\u001b[0m     \u001b[0;31m# Create the parser.\u001b[0m\u001b[0;34m\u001b[0m\u001b[0;34m\u001b[0m\u001b[0;34m\u001b[0m\u001b[0m\n\u001b[0;32m--> 482\u001b[0;31m     \u001b[0mparser\u001b[0m \u001b[0;34m=\u001b[0m \u001b[0mTextFileReader\u001b[0m\u001b[0;34m(\u001b[0m\u001b[0mfilepath_or_buffer\u001b[0m\u001b[0;34m,\u001b[0m \u001b[0;34m**\u001b[0m\u001b[0mkwds\u001b[0m\u001b[0;34m)\u001b[0m\u001b[0;34m\u001b[0m\u001b[0;34m\u001b[0m\u001b[0m\n\u001b[0m\u001b[1;32m    483\u001b[0m \u001b[0;34m\u001b[0m\u001b[0m\n\u001b[1;32m    484\u001b[0m     \u001b[0;32mif\u001b[0m \u001b[0mchunksize\u001b[0m \u001b[0;32mor\u001b[0m \u001b[0miterator\u001b[0m\u001b[0;34m:\u001b[0m\u001b[0;34m\u001b[0m\u001b[0;34m\u001b[0m\u001b[0m\n",
      "\u001b[0;32m~/.local/lib/python3.8/site-packages/pandas/io/parsers/readers.py\u001b[0m in \u001b[0;36m__init__\u001b[0;34m(self, f, engine, **kwds)\u001b[0m\n\u001b[1;32m    809\u001b[0m             \u001b[0mself\u001b[0m\u001b[0;34m.\u001b[0m\u001b[0moptions\u001b[0m\u001b[0;34m[\u001b[0m\u001b[0;34m\"has_index_names\"\u001b[0m\u001b[0;34m]\u001b[0m \u001b[0;34m=\u001b[0m \u001b[0mkwds\u001b[0m\u001b[0;34m[\u001b[0m\u001b[0;34m\"has_index_names\"\u001b[0m\u001b[0;34m]\u001b[0m\u001b[0;34m\u001b[0m\u001b[0;34m\u001b[0m\u001b[0m\n\u001b[1;32m    810\u001b[0m \u001b[0;34m\u001b[0m\u001b[0m\n\u001b[0;32m--> 811\u001b[0;31m         \u001b[0mself\u001b[0m\u001b[0;34m.\u001b[0m\u001b[0m_engine\u001b[0m \u001b[0;34m=\u001b[0m \u001b[0mself\u001b[0m\u001b[0;34m.\u001b[0m\u001b[0m_make_engine\u001b[0m\u001b[0;34m(\u001b[0m\u001b[0mself\u001b[0m\u001b[0;34m.\u001b[0m\u001b[0mengine\u001b[0m\u001b[0;34m)\u001b[0m\u001b[0;34m\u001b[0m\u001b[0;34m\u001b[0m\u001b[0m\n\u001b[0m\u001b[1;32m    812\u001b[0m \u001b[0;34m\u001b[0m\u001b[0m\n\u001b[1;32m    813\u001b[0m     \u001b[0;32mdef\u001b[0m \u001b[0mclose\u001b[0m\u001b[0;34m(\u001b[0m\u001b[0mself\u001b[0m\u001b[0;34m)\u001b[0m\u001b[0;34m:\u001b[0m\u001b[0;34m\u001b[0m\u001b[0;34m\u001b[0m\u001b[0m\n",
      "\u001b[0;32m~/.local/lib/python3.8/site-packages/pandas/io/parsers/readers.py\u001b[0m in \u001b[0;36m_make_engine\u001b[0;34m(self, engine)\u001b[0m\n\u001b[1;32m   1038\u001b[0m             )\n\u001b[1;32m   1039\u001b[0m         \u001b[0;31m# error: Too many arguments for \"ParserBase\"\u001b[0m\u001b[0;34m\u001b[0m\u001b[0;34m\u001b[0m\u001b[0;34m\u001b[0m\u001b[0m\n\u001b[0;32m-> 1040\u001b[0;31m         \u001b[0;32mreturn\u001b[0m \u001b[0mmapping\u001b[0m\u001b[0;34m[\u001b[0m\u001b[0mengine\u001b[0m\u001b[0;34m]\u001b[0m\u001b[0;34m(\u001b[0m\u001b[0mself\u001b[0m\u001b[0;34m.\u001b[0m\u001b[0mf\u001b[0m\u001b[0;34m,\u001b[0m \u001b[0;34m**\u001b[0m\u001b[0mself\u001b[0m\u001b[0;34m.\u001b[0m\u001b[0moptions\u001b[0m\u001b[0;34m)\u001b[0m  \u001b[0;31m# type: ignore[call-arg]\u001b[0m\u001b[0;34m\u001b[0m\u001b[0;34m\u001b[0m\u001b[0m\n\u001b[0m\u001b[1;32m   1041\u001b[0m \u001b[0;34m\u001b[0m\u001b[0m\n\u001b[1;32m   1042\u001b[0m     \u001b[0;32mdef\u001b[0m \u001b[0m_failover_to_python\u001b[0m\u001b[0;34m(\u001b[0m\u001b[0mself\u001b[0m\u001b[0;34m)\u001b[0m\u001b[0;34m:\u001b[0m\u001b[0;34m\u001b[0m\u001b[0;34m\u001b[0m\u001b[0m\n",
      "\u001b[0;32m~/.local/lib/python3.8/site-packages/pandas/io/parsers/c_parser_wrapper.py\u001b[0m in \u001b[0;36m__init__\u001b[0;34m(self, src, **kwds)\u001b[0m\n\u001b[1;32m     49\u001b[0m \u001b[0;34m\u001b[0m\u001b[0m\n\u001b[1;32m     50\u001b[0m         \u001b[0;31m# open handles\u001b[0m\u001b[0;34m\u001b[0m\u001b[0;34m\u001b[0m\u001b[0;34m\u001b[0m\u001b[0m\n\u001b[0;32m---> 51\u001b[0;31m         \u001b[0mself\u001b[0m\u001b[0;34m.\u001b[0m\u001b[0m_open_handles\u001b[0m\u001b[0;34m(\u001b[0m\u001b[0msrc\u001b[0m\u001b[0;34m,\u001b[0m \u001b[0mkwds\u001b[0m\u001b[0;34m)\u001b[0m\u001b[0;34m\u001b[0m\u001b[0;34m\u001b[0m\u001b[0m\n\u001b[0m\u001b[1;32m     52\u001b[0m         \u001b[0;32massert\u001b[0m \u001b[0mself\u001b[0m\u001b[0;34m.\u001b[0m\u001b[0mhandles\u001b[0m \u001b[0;32mis\u001b[0m \u001b[0;32mnot\u001b[0m \u001b[0;32mNone\u001b[0m\u001b[0;34m\u001b[0m\u001b[0;34m\u001b[0m\u001b[0m\n\u001b[1;32m     53\u001b[0m \u001b[0;34m\u001b[0m\u001b[0m\n",
      "\u001b[0;32m~/.local/lib/python3.8/site-packages/pandas/io/parsers/base_parser.py\u001b[0m in \u001b[0;36m_open_handles\u001b[0;34m(self, src, kwds)\u001b[0m\n\u001b[1;32m    220\u001b[0m         \u001b[0mLet\u001b[0m \u001b[0mthe\u001b[0m \u001b[0mreaders\u001b[0m \u001b[0mopen\u001b[0m \u001b[0mIOHandles\u001b[0m \u001b[0mafter\u001b[0m \u001b[0mthey\u001b[0m \u001b[0mare\u001b[0m \u001b[0mdone\u001b[0m \u001b[0;32mwith\u001b[0m \u001b[0mtheir\u001b[0m \u001b[0mpotential\u001b[0m \u001b[0mraises\u001b[0m\u001b[0;34m.\u001b[0m\u001b[0;34m\u001b[0m\u001b[0;34m\u001b[0m\u001b[0m\n\u001b[1;32m    221\u001b[0m         \"\"\"\n\u001b[0;32m--> 222\u001b[0;31m         self.handles = get_handle(\n\u001b[0m\u001b[1;32m    223\u001b[0m             \u001b[0msrc\u001b[0m\u001b[0;34m,\u001b[0m\u001b[0;34m\u001b[0m\u001b[0;34m\u001b[0m\u001b[0m\n\u001b[1;32m    224\u001b[0m             \u001b[0;34m\"r\"\u001b[0m\u001b[0;34m,\u001b[0m\u001b[0;34m\u001b[0m\u001b[0;34m\u001b[0m\u001b[0m\n",
      "\u001b[0;32m~/.local/lib/python3.8/site-packages/pandas/io/common.py\u001b[0m in \u001b[0;36mget_handle\u001b[0;34m(path_or_buf, mode, encoding, compression, memory_map, is_text, errors, storage_options)\u001b[0m\n\u001b[1;32m    699\u001b[0m         \u001b[0;32mif\u001b[0m \u001b[0mioargs\u001b[0m\u001b[0;34m.\u001b[0m\u001b[0mencoding\u001b[0m \u001b[0;32mand\u001b[0m \u001b[0;34m\"b\"\u001b[0m \u001b[0;32mnot\u001b[0m \u001b[0;32min\u001b[0m \u001b[0mioargs\u001b[0m\u001b[0;34m.\u001b[0m\u001b[0mmode\u001b[0m\u001b[0;34m:\u001b[0m\u001b[0;34m\u001b[0m\u001b[0;34m\u001b[0m\u001b[0m\n\u001b[1;32m    700\u001b[0m             \u001b[0;31m# Encoding\u001b[0m\u001b[0;34m\u001b[0m\u001b[0;34m\u001b[0m\u001b[0;34m\u001b[0m\u001b[0m\n\u001b[0;32m--> 701\u001b[0;31m             handle = open(\n\u001b[0m\u001b[1;32m    702\u001b[0m                 \u001b[0mhandle\u001b[0m\u001b[0;34m,\u001b[0m\u001b[0;34m\u001b[0m\u001b[0;34m\u001b[0m\u001b[0m\n\u001b[1;32m    703\u001b[0m                 \u001b[0mioargs\u001b[0m\u001b[0;34m.\u001b[0m\u001b[0mmode\u001b[0m\u001b[0;34m,\u001b[0m\u001b[0;34m\u001b[0m\u001b[0;34m\u001b[0m\u001b[0m\n",
      "\u001b[0;31mFileNotFoundError\u001b[0m: [Errno 2] No such file or directory: 'diabetes_cleaned_data.csv'"
     ]
    }
   ],
   "source": [
    "# reading clean data \n",
    "df = pd.read_csv(\"diabetes_cleaned_data.csv\")\n",
    "df.head(10) "
   ]
  },
  {
   "cell_type": "code",
   "execution_count": 8,
   "metadata": {},
   "outputs": [
    {
     "data": {
      "text/plain": [
       "(303, 26)"
      ]
     },
     "execution_count": 8,
     "metadata": {},
     "output_type": "execute_result"
    }
   ],
   "source": [
    "df.shape "
   ]
  },
  {
   "cell_type": "code",
   "execution_count": 9,
   "metadata": {},
   "outputs": [
    {
     "data": {
      "text/plain": [
       "Index(['Age_of_Participant', 'Gender', 'Marital_status', 'Education_Level',\n",
       "       'Occupation', 'Division', 'District',\n",
       "       'At_which_age_you_diagnosed_diabetes?',\n",
       "       'What_type_of_diabetes_do_you_have?',\n",
       "       'Did_you_inject_insulin_within_the_first_3_months_of_being_diagnosed_?',\n",
       "       'Did_you_continue_injecting_for_more_than_one_year_after_you_first_injected_insulin?',\n",
       "       'How_do_you_control_your_diabetes_now_?',\n",
       "       'Do_you_take_any_medication_for_any_other_condition_?',\n",
       "       'What_type_of_medication_do_you_take_?',\n",
       "       'Do_you_know_enough_about_when_to_take_your_medication_?',\n",
       "       'How_often_do_you_test_your_own_blood_glucose_level_?',\n",
       "       'Do_you_know_enough_about_what_you_should_eat_to_help_you_manage_your_diabetes_?',\n",
       "       'Do_you_know_about_the_role_of_Physical_activity_in_managing_your_diabetes_?',\n",
       "       'Do_you_smoke_?', 'Overall_health_in_the_past_4_weeks_?',\n",
       "       'Does_diabetes_affect_day_to_day_activities_?',\n",
       "       'Family_history_of_diabetes', 'Whether_stayed_in_hospital_overnight',\n",
       "       'Reason_for_most_recent__stay_in_hospital',\n",
       "       'Where_do__you__go_for_diabetes_check-up',\n",
       "       'Number_of_diabetes_check-ups_in_the_last__12_month'],\n",
       "      dtype='object')"
      ]
     },
     "execution_count": 9,
     "metadata": {},
     "output_type": "execute_result"
    }
   ],
   "source": [
    "df.columns"
   ]
  },
  {
   "cell_type": "markdown",
   "metadata": {},
   "source": [
    "## Task #2: Analysis of demographic variables "
   ]
  },
  {
   "cell_type": "code",
   "execution_count": 10,
   "metadata": {},
   "outputs": [
    {
     "name": "stdout",
     "output_type": "stream",
     "text": [
      "Variable: Age_of_Participant    Data Type: float64 \n",
      "\n",
      " Number of Obs.: 303 \n",
      " Number of missing obs.: 0 \n",
      " Percent missing: 0.0 \n",
      " Number of unique values: 50 \n",
      "\n",
      " Range: [20.0, 80.0] \n",
      " Mean: 52.53 \n",
      " Standard Deviation: 10.16 \n",
      " Mode: 57.0 \n",
      " 10th Percentile: 40.0 \n",
      " 25th Percentile: 46.0 \n",
      " 50th Percentile: 53.0 \n",
      " 75th Percentile: 58.0 \n",
      " 90th Percentile: 65.0 \n",
      "\n",
      "\n",
      "\n",
      "\n",
      "\n"
     ]
    }
   ],
   "source": [
    "# distribution of age \n",
    "rp.codebook(df['Age_of_Participant'])"
   ]
  },
  {
   "cell_type": "code",
   "execution_count": 11,
   "metadata": {},
   "outputs": [
    {
     "data": {
      "text/plain": [
       "count    303.000000\n",
       "mean      52.531353\n",
       "std       10.158260\n",
       "min       20.000000\n",
       "25%       46.000000\n",
       "50%       53.000000\n",
       "75%       58.000000\n",
       "max       80.000000\n",
       "Name: Age_of_Participant, dtype: float64"
      ]
     },
     "execution_count": 11,
     "metadata": {},
     "output_type": "execute_result"
    }
   ],
   "source": [
    "df['Age_of_Participant'].describe()"
   ]
  },
  {
   "cell_type": "code",
   "execution_count": 12,
   "metadata": {},
   "outputs": [
    {
     "data": {
      "text/plain": [
       "(40.0, 60.0]      215\n",
       "(60.0, 80.0]       56\n",
       "(19.999, 40.0]     32\n",
       "Name: Age_of_Participant, dtype: int64"
      ]
     },
     "execution_count": 12,
     "metadata": {},
     "output_type": "execute_result"
    }
   ],
   "source": [
    "df['Age_of_Participant'].value_counts(bins=[16, 35, 60, 80], sort=True) "
   ]
  },
  {
   "cell_type": "code",
   "execution_count": 32,
   "metadata": {},
   "outputs": [
    {
     "data": {
      "text/plain": [
       "(19.999, 40.0]    10.561056\n",
       "(60.0, 80.0]      18.481848\n",
       "(40.0, 60.0]      70.957096\n",
       "Name: Age_of_Participant, dtype: float64"
      ]
     },
     "execution_count": 32,
     "metadata": {},
     "output_type": "execute_result"
    }
   ],
   "source": [
    "df['Age_of_Participant'].value_counts(bins=[20, 40, 60, 80], sort=True, ascending=True, normalize=True) * 100  "
   ]
  },
  {
   "cell_type": "code",
   "execution_count": 72,
   "metadata": {},
   "outputs": [
    {
     "name": "stdout",
     "output_type": "stream",
     "text": [
      "\n",
      "\n"
     ]
    },
    {
     "data": {
      "text/html": [
       "<div>\n",
       "<style scoped>\n",
       "    .dataframe tbody tr th:only-of-type {\n",
       "        vertical-align: middle;\n",
       "    }\n",
       "\n",
       "    .dataframe tbody tr th {\n",
       "        vertical-align: top;\n",
       "    }\n",
       "\n",
       "    .dataframe thead th {\n",
       "        text-align: right;\n",
       "    }\n",
       "</style>\n",
       "<table border=\"1\" class=\"dataframe\">\n",
       "  <thead>\n",
       "    <tr style=\"text-align: right;\">\n",
       "      <th></th>\n",
       "      <th>Variable</th>\n",
       "      <th>N</th>\n",
       "      <th>Mean</th>\n",
       "      <th>SD</th>\n",
       "      <th>SE</th>\n",
       "      <th>95% Conf.</th>\n",
       "      <th>Interval</th>\n",
       "    </tr>\n",
       "  </thead>\n",
       "  <tbody>\n",
       "    <tr>\n",
       "      <th>0</th>\n",
       "      <td>Age_of_Participant</td>\n",
       "      <td>303.0</td>\n",
       "      <td>52.5314</td>\n",
       "      <td>10.1583</td>\n",
       "      <td>0.5836</td>\n",
       "      <td>51.383</td>\n",
       "      <td>53.6797</td>\n",
       "    </tr>\n",
       "  </tbody>\n",
       "</table>\n",
       "</div>"
      ],
      "text/plain": [
       "             Variable      N     Mean       SD      SE  95% Conf.  Interval\n",
       "0  Age_of_Participant  303.0  52.5314  10.1583  0.5836     51.383   53.6797"
      ]
     },
     "execution_count": 72,
     "metadata": {},
     "output_type": "execute_result"
    }
   ],
   "source": [
    "# distribution of age \n",
    "rp.summary_cont(df['Age_of_Participant'])"
   ]
  },
  {
   "cell_type": "code",
   "execution_count": 13,
   "metadata": {},
   "outputs": [
    {
     "data": {
      "text/html": [
       "<div>\n",
       "<style scoped>\n",
       "    .dataframe tbody tr th:only-of-type {\n",
       "        vertical-align: middle;\n",
       "    }\n",
       "\n",
       "    .dataframe tbody tr th {\n",
       "        vertical-align: top;\n",
       "    }\n",
       "\n",
       "    .dataframe thead th {\n",
       "        text-align: right;\n",
       "    }\n",
       "</style>\n",
       "<table border=\"1\" class=\"dataframe\">\n",
       "  <thead>\n",
       "    <tr style=\"text-align: right;\">\n",
       "      <th></th>\n",
       "      <th>Variable</th>\n",
       "      <th>Outcome</th>\n",
       "      <th>Count</th>\n",
       "      <th>Percent</th>\n",
       "    </tr>\n",
       "  </thead>\n",
       "  <tbody>\n",
       "    <tr>\n",
       "      <th>0</th>\n",
       "      <td>Gender</td>\n",
       "      <td>Male</td>\n",
       "      <td>211</td>\n",
       "      <td>69.64</td>\n",
       "    </tr>\n",
       "    <tr>\n",
       "      <th>1</th>\n",
       "      <td></td>\n",
       "      <td>Female</td>\n",
       "      <td>92</td>\n",
       "      <td>30.36</td>\n",
       "    </tr>\n",
       "    <tr>\n",
       "      <th>2</th>\n",
       "      <td>Marital_status</td>\n",
       "      <td>Married</td>\n",
       "      <td>296</td>\n",
       "      <td>97.69</td>\n",
       "    </tr>\n",
       "    <tr>\n",
       "      <th>3</th>\n",
       "      <td></td>\n",
       "      <td>Unmarried</td>\n",
       "      <td>7</td>\n",
       "      <td>2.31</td>\n",
       "    </tr>\n",
       "    <tr>\n",
       "      <th>4</th>\n",
       "      <td>Education_Level</td>\n",
       "      <td>Post graduate (MSc, Ms, MD, PhD, Diploma and O...</td>\n",
       "      <td>93</td>\n",
       "      <td>30.69</td>\n",
       "    </tr>\n",
       "    <tr>\n",
       "      <th>5</th>\n",
       "      <td></td>\n",
       "      <td>Graduate</td>\n",
       "      <td>76</td>\n",
       "      <td>25.08</td>\n",
       "    </tr>\n",
       "    <tr>\n",
       "      <th>6</th>\n",
       "      <td></td>\n",
       "      <td>HSC</td>\n",
       "      <td>40</td>\n",
       "      <td>13.20</td>\n",
       "    </tr>\n",
       "    <tr>\n",
       "      <th>7</th>\n",
       "      <td></td>\n",
       "      <td>SSC</td>\n",
       "      <td>37</td>\n",
       "      <td>12.21</td>\n",
       "    </tr>\n",
       "    <tr>\n",
       "      <th>8</th>\n",
       "      <td></td>\n",
       "      <td>Undergraduate</td>\n",
       "      <td>34</td>\n",
       "      <td>11.22</td>\n",
       "    </tr>\n",
       "    <tr>\n",
       "      <th>9</th>\n",
       "      <td></td>\n",
       "      <td>No education</td>\n",
       "      <td>23</td>\n",
       "      <td>7.59</td>\n",
       "    </tr>\n",
       "    <tr>\n",
       "      <th>10</th>\n",
       "      <td>Occupation</td>\n",
       "      <td>Public Service</td>\n",
       "      <td>74</td>\n",
       "      <td>24.42</td>\n",
       "    </tr>\n",
       "    <tr>\n",
       "      <th>11</th>\n",
       "      <td></td>\n",
       "      <td>Housewife</td>\n",
       "      <td>67</td>\n",
       "      <td>22.11</td>\n",
       "    </tr>\n",
       "    <tr>\n",
       "      <th>12</th>\n",
       "      <td></td>\n",
       "      <td>Retired</td>\n",
       "      <td>41</td>\n",
       "      <td>13.53</td>\n",
       "    </tr>\n",
       "    <tr>\n",
       "      <th>13</th>\n",
       "      <td></td>\n",
       "      <td>Private Service</td>\n",
       "      <td>36</td>\n",
       "      <td>11.88</td>\n",
       "    </tr>\n",
       "    <tr>\n",
       "      <th>14</th>\n",
       "      <td></td>\n",
       "      <td>School / College Teacher</td>\n",
       "      <td>24</td>\n",
       "      <td>7.92</td>\n",
       "    </tr>\n",
       "    <tr>\n",
       "      <th>15</th>\n",
       "      <td></td>\n",
       "      <td>Police and Defence Service</td>\n",
       "      <td>16</td>\n",
       "      <td>5.28</td>\n",
       "    </tr>\n",
       "    <tr>\n",
       "      <th>16</th>\n",
       "      <td></td>\n",
       "      <td>Other</td>\n",
       "      <td>11</td>\n",
       "      <td>3.63</td>\n",
       "    </tr>\n",
       "    <tr>\n",
       "      <th>17</th>\n",
       "      <td></td>\n",
       "      <td>Bank and Financial Institutions</td>\n",
       "      <td>8</td>\n",
       "      <td>2.64</td>\n",
       "    </tr>\n",
       "    <tr>\n",
       "      <th>18</th>\n",
       "      <td></td>\n",
       "      <td>Doctor/Physician</td>\n",
       "      <td>8</td>\n",
       "      <td>2.64</td>\n",
       "    </tr>\n",
       "    <tr>\n",
       "      <th>19</th>\n",
       "      <td></td>\n",
       "      <td>Govt. / Private University Teacher</td>\n",
       "      <td>7</td>\n",
       "      <td>2.31</td>\n",
       "    </tr>\n",
       "    <tr>\n",
       "      <th>20</th>\n",
       "      <td></td>\n",
       "      <td>Health Care Service Provider</td>\n",
       "      <td>6</td>\n",
       "      <td>1.98</td>\n",
       "    </tr>\n",
       "    <tr>\n",
       "      <th>21</th>\n",
       "      <td></td>\n",
       "      <td>Student</td>\n",
       "      <td>5</td>\n",
       "      <td>1.65</td>\n",
       "    </tr>\n",
       "  </tbody>\n",
       "</table>\n",
       "</div>"
      ],
      "text/plain": [
       "           Variable                                            Outcome  Count  \\\n",
       "0            Gender                                               Male    211   \n",
       "1                                                               Female     92   \n",
       "2    Marital_status                                            Married    296   \n",
       "3                                                            Unmarried      7   \n",
       "4   Education_Level  Post graduate (MSc, Ms, MD, PhD, Diploma and O...     93   \n",
       "5                                                             Graduate     76   \n",
       "6                                                                  HSC     40   \n",
       "7                                                                  SSC     37   \n",
       "8                                                        Undergraduate     34   \n",
       "9                                                         No education     23   \n",
       "10       Occupation                                     Public Service     74   \n",
       "11                                                           Housewife     67   \n",
       "12                                                             Retired     41   \n",
       "13                                                     Private Service     36   \n",
       "14                                            School / College Teacher     24   \n",
       "15                                          Police and Defence Service     16   \n",
       "16                                                               Other     11   \n",
       "17                                     Bank and Financial Institutions      8   \n",
       "18                                                    Doctor/Physician      8   \n",
       "19                                  Govt. / Private University Teacher      7   \n",
       "20                                        Health Care Service Provider      6   \n",
       "21                                                             Student      5   \n",
       "\n",
       "    Percent  \n",
       "0     69.64  \n",
       "1     30.36  \n",
       "2     97.69  \n",
       "3      2.31  \n",
       "4     30.69  \n",
       "5     25.08  \n",
       "6     13.20  \n",
       "7     12.21  \n",
       "8     11.22  \n",
       "9      7.59  \n",
       "10    24.42  \n",
       "11    22.11  \n",
       "12    13.53  \n",
       "13    11.88  \n",
       "14     7.92  \n",
       "15     5.28  \n",
       "16     3.63  \n",
       "17     2.64  \n",
       "18     2.64  \n",
       "19     2.31  \n",
       "20     1.98  \n",
       "21     1.65  "
      ]
     },
     "execution_count": 13,
     "metadata": {},
     "output_type": "execute_result"
    }
   ],
   "source": [
    "dm = rp.summary_cat(df[['Gender', 'Marital_status', 'Education_Level',\n",
    "       'Occupation']])\n",
    "dm "
   ]
  },
  {
   "cell_type": "code",
   "execution_count": 48,
   "metadata": {},
   "outputs": [],
   "source": [
    "dm.to_csv('demographics.csv', index=False)"
   ]
  },
  {
   "cell_type": "markdown",
   "metadata": {},
   "source": [
    "## Task #3: Estimation of probable type "
   ]
  },
  {
   "cell_type": "code",
   "execution_count": 45,
   "metadata": {},
   "outputs": [],
   "source": [
    "estimation = rp.summary_cat(df[['At_which_age_you_diagnosed_diabetes?',\n",
    "       'What_type_of_diabetes_do_you_have?',\n",
    "       'Did_you_inject_insulin_within_the_first_3_months_of_being_diagnosed_?',\n",
    "       'Did_you_continue_injecting_for_more_than_one_year_after_you_first_injected_insulin?']])"
   ]
  },
  {
   "cell_type": "code",
   "execution_count": 46,
   "metadata": {},
   "outputs": [],
   "source": [
    "estimation.to_csv('estimation_of_probable_type.csv', index=False)"
   ]
  },
  {
   "cell_type": "code",
   "execution_count": 69,
   "metadata": {},
   "outputs": [],
   "source": [
    "crosstab, res = rp.crosstab(df['Gender'], \n",
    "                            df['At_which_age_you_diagnosed_diabetes?'], \n",
    "                            test= \"chi-square\")"
   ]
  },
  {
   "cell_type": "code",
   "execution_count": 70,
   "metadata": {},
   "outputs": [
    {
     "data": {
      "text/html": [
       "<div>\n",
       "<style scoped>\n",
       "    .dataframe tbody tr th:only-of-type {\n",
       "        vertical-align: middle;\n",
       "    }\n",
       "\n",
       "    .dataframe tbody tr th {\n",
       "        vertical-align: top;\n",
       "    }\n",
       "\n",
       "    .dataframe thead tr th {\n",
       "        text-align: left;\n",
       "    }\n",
       "\n",
       "    .dataframe thead tr:last-of-type th {\n",
       "        text-align: right;\n",
       "    }\n",
       "</style>\n",
       "<table border=\"1\" class=\"dataframe\">\n",
       "  <thead>\n",
       "    <tr>\n",
       "      <th></th>\n",
       "      <th colspan=\"6\" halign=\"left\">At_which_age_you_diagnosed_diabetes?</th>\n",
       "    </tr>\n",
       "    <tr>\n",
       "      <th>At_which_age_you_diagnosed_diabetes?</th>\n",
       "      <th>16 to 35</th>\n",
       "      <th>36 to 50</th>\n",
       "      <th>51-65</th>\n",
       "      <th>66  and above</th>\n",
       "      <th>Under 16 years</th>\n",
       "      <th>All</th>\n",
       "    </tr>\n",
       "    <tr>\n",
       "      <th>Gender</th>\n",
       "      <th></th>\n",
       "      <th></th>\n",
       "      <th></th>\n",
       "      <th></th>\n",
       "      <th></th>\n",
       "      <th></th>\n",
       "    </tr>\n",
       "  </thead>\n",
       "  <tbody>\n",
       "    <tr>\n",
       "      <th>Female</th>\n",
       "      <td>28</td>\n",
       "      <td>49</td>\n",
       "      <td>14</td>\n",
       "      <td>1</td>\n",
       "      <td>0</td>\n",
       "      <td>92</td>\n",
       "    </tr>\n",
       "    <tr>\n",
       "      <th>Male</th>\n",
       "      <td>32</td>\n",
       "      <td>158</td>\n",
       "      <td>15</td>\n",
       "      <td>5</td>\n",
       "      <td>1</td>\n",
       "      <td>211</td>\n",
       "    </tr>\n",
       "    <tr>\n",
       "      <th>All</th>\n",
       "      <td>60</td>\n",
       "      <td>207</td>\n",
       "      <td>29</td>\n",
       "      <td>6</td>\n",
       "      <td>1</td>\n",
       "      <td>303</td>\n",
       "    </tr>\n",
       "  </tbody>\n",
       "</table>\n",
       "</div>"
      ],
      "text/plain": [
       "                                     At_which_age_you_diagnosed_diabetes?  \\\n",
       "At_which_age_you_diagnosed_diabetes?                             16 to 35   \n",
       "Gender                                                                      \n",
       "Female                                                                 28   \n",
       "Male                                                                   32   \n",
       "All                                                                    60   \n",
       "\n",
       "                                                                   \\\n",
       "At_which_age_you_diagnosed_diabetes? 36 to 50 51-65 66  and above   \n",
       "Gender                                                              \n",
       "Female                                     49    14             1   \n",
       "Male                                      158    15             5   \n",
       "All                                       207    29             6   \n",
       "\n",
       "                                                          \n",
       "At_which_age_you_diagnosed_diabetes? Under 16 years  All  \n",
       "Gender                                                    \n",
       "Female                                            0   92  \n",
       "Male                                              1  211  \n",
       "All                                               1  303  "
      ]
     },
     "execution_count": 70,
     "metadata": {},
     "output_type": "execute_result"
    }
   ],
   "source": [
    "crosstab"
   ]
  },
  {
   "cell_type": "code",
   "execution_count": 71,
   "metadata": {},
   "outputs": [
    {
     "data": {
      "text/html": [
       "<div>\n",
       "<style scoped>\n",
       "    .dataframe tbody tr th:only-of-type {\n",
       "        vertical-align: middle;\n",
       "    }\n",
       "\n",
       "    .dataframe tbody tr th {\n",
       "        vertical-align: top;\n",
       "    }\n",
       "\n",
       "    .dataframe thead th {\n",
       "        text-align: right;\n",
       "    }\n",
       "</style>\n",
       "<table border=\"1\" class=\"dataframe\">\n",
       "  <thead>\n",
       "    <tr style=\"text-align: right;\">\n",
       "      <th></th>\n",
       "      <th>Chi-square test</th>\n",
       "      <th>results</th>\n",
       "    </tr>\n",
       "  </thead>\n",
       "  <tbody>\n",
       "    <tr>\n",
       "      <th>0</th>\n",
       "      <td>Pearson Chi-square ( 4.0) =</td>\n",
       "      <td>17.2957</td>\n",
       "    </tr>\n",
       "    <tr>\n",
       "      <th>1</th>\n",
       "      <td>p-value =</td>\n",
       "      <td>0.0017</td>\n",
       "    </tr>\n",
       "    <tr>\n",
       "      <th>2</th>\n",
       "      <td>Cramer's V =</td>\n",
       "      <td>0.2389</td>\n",
       "    </tr>\n",
       "  </tbody>\n",
       "</table>\n",
       "</div>"
      ],
      "text/plain": [
       "                Chi-square test  results\n",
       "0  Pearson Chi-square ( 4.0) =   17.2957\n",
       "1                    p-value =    0.0017\n",
       "2                 Cramer's V =    0.2389"
      ]
     },
     "execution_count": 71,
     "metadata": {},
     "output_type": "execute_result"
    }
   ],
   "source": [
    "res "
   ]
  },
  {
   "cell_type": "markdown",
   "metadata": {},
   "source": [
    "## Task #4: Self Management and Knowledge      "
   ]
  },
  {
   "cell_type": "code",
   "execution_count": 41,
   "metadata": {},
   "outputs": [],
   "source": [
    "result = rp.summary_cat(df[['How_do_you_control_your_diabetes_now_?',\n",
    "       'Do_you_take_any_medication_for_any_other_condition_?',\n",
    "       'What_type_of_medication_do_you_take_?',\n",
    "       'Do_you_know_enough_about_when_to_take_your_medication_?',\n",
    "       'How_often_do_you_test_your_own_blood_glucose_level_?',\n",
    "       'Do_you_know_enough_about_what_you_should_eat_to_help_you_manage_your_diabetes_?',\n",
    "       'Do_you_know_about_the_role_of_Physical_activity_in_managing_your_diabetes_?',\n",
    "       'Do_you_smoke_?', 'Overall_health_in_the_past_4_weeks_?',\n",
    "       'Does_diabetes_affect_day_to_day_activities_?',\n",
    "       'Family_history_of_diabetes', 'Whether_stayed_in_hospital_overnight',\n",
    "       'Reason_for_most_recent__stay_in_hospital',\n",
    "       'Where_do__you__go_for_diabetes_check-up',\n",
    "       'Number_of_diabetes_check-ups_in_the_last__12_month']])"
   ]
  },
  {
   "cell_type": "code",
   "execution_count": 42,
   "metadata": {},
   "outputs": [],
   "source": [
    "result.to_csv('knowledge_management.csv', index=False)"
   ]
  },
  {
   "cell_type": "code",
   "execution_count": 44,
   "metadata": {},
   "outputs": [
    {
     "data": {
      "text/html": [
       "<div>\n",
       "<style scoped>\n",
       "    .dataframe tbody tr th:only-of-type {\n",
       "        vertical-align: middle;\n",
       "    }\n",
       "\n",
       "    .dataframe tbody tr th {\n",
       "        vertical-align: top;\n",
       "    }\n",
       "\n",
       "    .dataframe thead th {\n",
       "        text-align: right;\n",
       "    }\n",
       "</style>\n",
       "<table border=\"1\" class=\"dataframe\">\n",
       "  <thead>\n",
       "    <tr style=\"text-align: right;\">\n",
       "      <th></th>\n",
       "      <th>Variable</th>\n",
       "      <th>Outcome</th>\n",
       "      <th>Count</th>\n",
       "      <th>Percent</th>\n",
       "    </tr>\n",
       "  </thead>\n",
       "  <tbody>\n",
       "    <tr>\n",
       "      <th>0</th>\n",
       "      <td>How_do_you_control_your_diabetes_now_?</td>\n",
       "      <td>Tablets</td>\n",
       "      <td>49</td>\n",
       "      <td>16.17</td>\n",
       "    </tr>\n",
       "    <tr>\n",
       "      <th>1</th>\n",
       "      <td></td>\n",
       "      <td>Tablets, Diet</td>\n",
       "      <td>49</td>\n",
       "      <td>16.17</td>\n",
       "    </tr>\n",
       "    <tr>\n",
       "      <th>2</th>\n",
       "      <td></td>\n",
       "      <td>Diet, Physical activity</td>\n",
       "      <td>35</td>\n",
       "      <td>11.55</td>\n",
       "    </tr>\n",
       "    <tr>\n",
       "      <th>3</th>\n",
       "      <td></td>\n",
       "      <td>Tablets, Physical activity</td>\n",
       "      <td>27</td>\n",
       "      <td>8.91</td>\n",
       "    </tr>\n",
       "    <tr>\n",
       "      <th>4</th>\n",
       "      <td></td>\n",
       "      <td>Tablets, Diet, Physical activity</td>\n",
       "      <td>23</td>\n",
       "      <td>7.59</td>\n",
       "    </tr>\n",
       "    <tr>\n",
       "      <th>...</th>\n",
       "      <td>...</td>\n",
       "      <td>...</td>\n",
       "      <td>...</td>\n",
       "      <td>...</td>\n",
       "    </tr>\n",
       "    <tr>\n",
       "      <th>87</th>\n",
       "      <td>Number_of_diabetes_check-ups_in_the_last__12_m...</td>\n",
       "      <td>Three or more time</td>\n",
       "      <td>244</td>\n",
       "      <td>80.53</td>\n",
       "    </tr>\n",
       "    <tr>\n",
       "      <th>88</th>\n",
       "      <td></td>\n",
       "      <td>Twice</td>\n",
       "      <td>37</td>\n",
       "      <td>12.21</td>\n",
       "    </tr>\n",
       "    <tr>\n",
       "      <th>89</th>\n",
       "      <td></td>\n",
       "      <td>None</td>\n",
       "      <td>13</td>\n",
       "      <td>4.29</td>\n",
       "    </tr>\n",
       "    <tr>\n",
       "      <th>90</th>\n",
       "      <td></td>\n",
       "      <td>once</td>\n",
       "      <td>8</td>\n",
       "      <td>2.64</td>\n",
       "    </tr>\n",
       "    <tr>\n",
       "      <th>91</th>\n",
       "      <td></td>\n",
       "      <td></td>\n",
       "      <td>1</td>\n",
       "      <td>0.33</td>\n",
       "    </tr>\n",
       "  </tbody>\n",
       "</table>\n",
       "<p>92 rows × 4 columns</p>\n",
       "</div>"
      ],
      "text/plain": [
       "                                             Variable  \\\n",
       "0              How_do_you_control_your_diabetes_now_?   \n",
       "1                                                       \n",
       "2                                                       \n",
       "3                                                       \n",
       "4                                                       \n",
       "..                                                ...   \n",
       "87  Number_of_diabetes_check-ups_in_the_last__12_m...   \n",
       "88                                                      \n",
       "89                                                      \n",
       "90                                                      \n",
       "91                                                      \n",
       "\n",
       "                             Outcome  Count  Percent  \n",
       "0                            Tablets     49    16.17  \n",
       "1                      Tablets, Diet     49    16.17  \n",
       "2            Diet, Physical activity     35    11.55  \n",
       "3         Tablets, Physical activity     27     8.91  \n",
       "4   Tablets, Diet, Physical activity     23     7.59  \n",
       "..                               ...    ...      ...  \n",
       "87                Three or more time    244    80.53  \n",
       "88                             Twice     37    12.21  \n",
       "89                              None     13     4.29  \n",
       "90                              once      8     2.64  \n",
       "91                                        1     0.33  \n",
       "\n",
       "[92 rows x 4 columns]"
      ]
     },
     "execution_count": 44,
     "metadata": {},
     "output_type": "execute_result"
    }
   ],
   "source": [
    "result"
   ]
  }
 ],
 "metadata": {
  "kernelspec": {
   "display_name": "Python 3 (ipykernel)",
   "language": "python",
   "name": "python3"
  },
  "language_info": {
   "codemirror_mode": {
    "name": "ipython",
    "version": 3
   },
   "file_extension": ".py",
   "mimetype": "text/x-python",
   "name": "python",
   "nbconvert_exporter": "python",
   "pygments_lexer": "ipython3",
   "version": "3.8.8"
  },
  "latex_envs": {
   "LaTeX_envs_menu_present": true,
   "autoclose": false,
   "autocomplete": true,
   "bibliofile": "biblio.bib",
   "cite_by": "apalike",
   "current_citInitial": 1,
   "eqLabelWithNumbers": true,
   "eqNumInitial": 1,
   "hotkeys": {
    "equation": "Ctrl-E",
    "itemize": "Ctrl-I"
   },
   "labels_anchors": false,
   "latex_user_defs": false,
   "report_style_numbering": false,
   "user_envs_cfg": false
  }
 },
 "nbformat": 4,
 "nbformat_minor": 4
}
